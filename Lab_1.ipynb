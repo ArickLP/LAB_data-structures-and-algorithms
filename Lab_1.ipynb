{
 "cells": [
  {
   "cell_type": "markdown",
   "id": "immediate-alloy",
   "metadata": {},
   "source": [
    "# Лабораторная работа №1\n",
    "## Выполнил студент группы БВТ 1901 Пхомматхеп Нантхави \n",
    "### Задание 1"
   ]
  },
  {
   "cell_type": "code",
   "execution_count": 63,
   "id": "growing-stomach",
   "metadata": {},
   "outputs": [
    {
     "name": "stdout",
     "output_type": "stream",
     "text": [
      "Hello World\n"
     ]
    }
   ],
   "source": [
    "print(\"Hello World\")\n",
    "#### Папка с лабораторными работами по предмету \"Структура и алгоритмы и обработки данных\"\n",
    "#### Выполнял: Студент Пхомматхеп Нантхави \n"
   ]
  },
  {
   "cell_type": "markdown",
   "id": "protective-stylus",
   "metadata": {},
   "source": [
    "### Задание 2\n",
    "Написать генератор случайных матриц(многомерных), который принимает\n",
    "опциональные параметры `m, n, min_limit, max_limit`, где `m` и `n` указывают размер\n",
    "матрицы, а `min_lim` и `max_lim` - минимальное и максимальное значение для\n",
    "генерируемого числа . По умолчанию при отсутствии параметров принимать следующие\n",
    "значения:\n",
    "``` python\n",
    "m = 50\n",
    "n = 50\n",
    "min_limit = -250\n",
    "max_limit = 1000 + (номер своего варианта)\n",
    "```"
   ]
  },
  {
   "cell_type": "markdown",
   "id": "upper-touch",
   "metadata": {},
   "source": [
    "##### импорты"
   ]
  },
  {
   "cell_type": "code",
   "execution_count": 64,
   "id": "rapid-serial",
   "metadata": {},
   "outputs": [],
   "source": [
    "import numpy as np \n",
    "import time\n",
    "from random import randint"
   ]
  },
  {
   "cell_type": "code",
   "execution_count": 67,
   "id": "decreased-arrow",
   "metadata": {},
   "outputs": [
    {
     "name": "stdout",
     "output_type": "stream",
     "text": [
      "  42.0  355.0  979.0 -112.0  881.0  353.0 -184.0  269.0  876.0  925.0\n",
      " 832.0  574.0  897.0  156.0  -69.0  826.0    9.0  183.0  -96.0  935.0\n",
      " 731.0 -227.0  941.0  751.0 -117.0   22.0  770.0 1017.0  718.0  338.0\n",
      " 877.0  228.0 -183.0  999.0  309.0 1019.0  252.0  279.0  539.0  576.0\n",
      " 293.0  712.0  820.0  578.0  -19.0   91.0  -48.0  859.0  837.0  209.0\n",
      " -69.0  879.0  -84.0  674.0  769.0  150.0  131.0   33.0  845.0  228.0\n",
      " 723.0  611.0  -24.0  910.0  709.0   42.0 -135.0  528.0  993.0  106.0\n",
      "-207.0  633.0  704.0  826.0  506.0   -6.0  -12.0  518.0  305.0  -41.0\n",
      "  26.0  223.0 -212.0  370.0  112.0  681.0  469.0  412.0 -150.0 -183.0\n",
      "-228.0  637.0  604.0  816.0   -9.0 -235.0 -171.0  146.0 -138.0  447.0\n",
      " 652.0 -177.0  432.0  213.0  902.0  737.0   89.0  700.0  425.0  463.0\n",
      " 289.0  810.0  857.0   52.0  337.0  -67.0  757.0  428.0  177.0  872.0\n",
      " 960.0  914.0 -137.0   61.0  -38.0  831.0 1000.0  593.0   18.0  511.0\n",
      " 414.0  427.0  -69.0  717.0  821.0  876.0  944.0  537.0   58.0  436.0\n",
      " 479.0  516.0  390.0  240.0  415.0   82.0  581.0  101.0  462.0  568.0\n",
      " 549.0  194.0 -151.0  523.0   64.0  126.0  512.0  968.0  251.0  294.0\n",
      " 659.0  480.0 -199.0  611.0  166.0  942.0  216.0  429.0  229.0  633.0\n",
      "-168.0  632.0  229.0  783.0  100.0  467.0  974.0  867.0 -115.0  968.0\n",
      "-174.0  791.0  821.0  877.0  934.0  848.0  607.0  564.0  310.0  335.0\n"
     ]
    }
   ],
   "source": [
    "def output(matrix):\n",
    "    max_len = max([len(str(e)) for r in matrix for e in r])\n",
    "    for row in matrix:\n",
    "        print(*list(map('{{:>{length}}}'.format(length=max_len).format, row)))\n",
    "\n",
    "m = 19\n",
    "n = 10\n",
    "min_limit = -250\n",
    "max_limit = 1019\n",
    "matrix = np.empty((m, n))\n",
    "\n",
    "for i in range(m):\n",
    "    for j in range(n):\n",
    "        matrix[i][j] = randint(min_limit, max_limit)\n",
    "output(matrix)\n"
   ]
  },
  {
   "cell_type": "markdown",
   "id": "superb-charter",
   "metadata": {},
   "source": [
    "### Задание 3\n",
    "Реализовать методы сортировки строк числовой матрицы в соответствии с\n",
    "заданием. Оценить время работы каждого алгоритма сортировки и сравнить его со\n",
    "временем стандартной функции сортировки. Испытания проводить на сгенерированных\n",
    "матрицах.\n"
   ]
  },
  {
   "cell_type": "code",
   "execution_count": 68,
   "id": "willing-blink",
   "metadata": {},
   "outputs": [],
   "source": [
    "# Сортировка выбором\n",
    "def sort_selection(matrix_copy):\n",
    "    for k in range(m):\n",
    "        for i in range(n):\n",
    "            min = matrix_copy[k, i]\n",
    "            min_k = i \n",
    "            for j in range(i + 1, n):\n",
    "                if matrix_copy[k, j] < min:\n",
    "                    min = matrix_copy[k, j]\n",
    "                    min_k = j\n",
    "            matrix_copy[k, min_k] = matrix_copy[k, i]\n",
    "            matrix_copy[k, i] = min\n",
    "    for k in range(n - 1, -1, -1):\n",
    "        for i in range(m):\n",
    "            min = matrix_copy[i, k]\n",
    "            min_k = i\n",
    "            for j in range(i + 1, m):\n",
    "                if matrix_copy[j, k] < min:\n",
    "                    min = matrix_copy[j, k]\n",
    "                    min_k = j\n",
    "                    \n",
    "            matrix_copy[min_k, k] = matrix_copy[i, k]\n",
    "            matrix_copy[i, k] = min\n",
    "            \n",
    "    output(matrix_copy)"
   ]
  },
  {
   "cell_type": "code",
   "execution_count": 69,
   "id": "comprehensive-assist",
   "metadata": {},
   "outputs": [
    {
     "name": "stdout",
     "output_type": "stream",
     "text": [
      "-235.0 -228.0 -171.0 -138.0   -9.0  146.0  370.0  412.0  469.0  581.0\n",
      "-227.0 -183.0 -150.0   -6.0  112.0  223.0  447.0  516.0  549.0  681.0\n",
      "-212.0 -117.0  -12.0   26.0  150.0  228.0  479.0  523.0  568.0  816.0\n",
      "-207.0 -115.0    9.0   61.0  183.0  294.0  512.0  604.0  637.0  826.0\n",
      "-199.0 -112.0   18.0  106.0  251.0  355.0  518.0  633.0  659.0  859.0\n",
      "-184.0  -69.0   22.0  131.0  293.0  428.0  576.0  633.0  704.0  872.0\n",
      "-183.0  -69.0   33.0  156.0  305.0  462.0  611.0  700.0  737.0  879.0\n",
      "-177.0  -41.0   42.0  194.0  309.0  463.0  652.0  723.0  837.0  902.0\n",
      "-174.0  -38.0   42.0  209.0  337.0  480.0  674.0  769.0  845.0  934.0\n",
      "-168.0  -24.0   91.0  229.0  353.0  506.0  709.0  770.0  857.0  935.0\n",
      "-151.0  -19.0  100.0  229.0  415.0  537.0  712.0  810.0  876.0  942.0\n",
      "-137.0   52.0  126.0  269.0  429.0  539.0  717.0  820.0  877.0  944.0\n",
      "-135.0   58.0  177.0  279.0  432.0  574.0  751.0  821.0  897.0  968.0\n",
      " -96.0   64.0  213.0  289.0  436.0  578.0  757.0  832.0  910.0  974.0\n",
      " -84.0   89.0  216.0  338.0  467.0  593.0  783.0  848.0  925.0  979.0\n",
      " -69.0  101.0  240.0  390.0  511.0  611.0  821.0  867.0  941.0  993.0\n",
      " -67.0  166.0  252.0  425.0  528.0  632.0  826.0  877.0  960.0 1000.0\n",
      " -48.0  228.0  335.0  427.0  607.0  731.0  831.0  881.0  968.0 1017.0\n",
      "  82.0  310.0  414.0  564.0  718.0  791.0  876.0  914.0  999.0 1019.0\n",
      "seletion\n",
      "0.006997108459472656\n"
     ]
    }
   ],
   "source": [
    "start_time = time.time()\n",
    "matrix_copy = np.array(matrix)\n",
    "sort_selection(matrix_copy)\n",
    "print(\"seletion\")\n",
    "print( time.time() - start_time)"
   ]
  },
  {
   "cell_type": "code",
   "execution_count": 70,
   "id": "qualified-hanging",
   "metadata": {},
   "outputs": [],
   "source": [
    "# Сортировка вставкой\n",
    "def insertion_sort(matrix_copy):\n",
    "    for k in range(m):\n",
    "        for i in range(1,n): \n",
    "            x = matrix_copy[k,i]\n",
    "            j = i\n",
    "            while j > 0 and matrix_copy[k,j-1] > x:\n",
    "                matrix_copy[k,j] = matrix_copy[k,j-1]\n",
    "                j = j - 1\n",
    "            matrix_copy[k,j] = x\n",
    "    for k in range(n - 1, -1, -1):\n",
    "        for i in range(1,m): \n",
    "            x = matrix_copy[i,k]\n",
    "            j = i\n",
    "            while j > 0 and matrix_copy[j-1,k] > x:\n",
    "                matrix_copy[j,k] = matrix_copy[j-1,k]\n",
    "                j = j - 1\n",
    "            matrix_copy[j,k] = x\n",
    "    output(matrix_copy)"
   ]
  },
  {
   "cell_type": "code",
   "execution_count": 71,
   "id": "defensive-italian",
   "metadata": {},
   "outputs": [
    {
     "name": "stdout",
     "output_type": "stream",
     "text": [
      "-235.0 -228.0 -171.0 -138.0   -9.0  146.0  370.0  412.0  469.0  581.0\n",
      "-227.0 -183.0 -150.0   -6.0  112.0  223.0  447.0  516.0  549.0  681.0\n",
      "-212.0 -117.0  -12.0   26.0  150.0  228.0  479.0  523.0  568.0  816.0\n",
      "-207.0 -115.0    9.0   61.0  183.0  294.0  512.0  604.0  637.0  826.0\n",
      "-199.0 -112.0   18.0  106.0  251.0  355.0  518.0  633.0  659.0  859.0\n",
      "-184.0  -69.0   22.0  131.0  293.0  428.0  576.0  633.0  704.0  872.0\n",
      "-183.0  -69.0   33.0  156.0  305.0  462.0  611.0  700.0  737.0  879.0\n",
      "-177.0  -41.0   42.0  194.0  309.0  463.0  652.0  723.0  837.0  902.0\n",
      "-174.0  -38.0   42.0  209.0  337.0  480.0  674.0  769.0  845.0  934.0\n",
      "-168.0  -24.0   91.0  229.0  353.0  506.0  709.0  770.0  857.0  935.0\n",
      "-151.0  -19.0  100.0  229.0  415.0  537.0  712.0  810.0  876.0  942.0\n",
      "-137.0   52.0  126.0  269.0  429.0  539.0  717.0  820.0  877.0  944.0\n",
      "-135.0   58.0  177.0  279.0  432.0  574.0  751.0  821.0  897.0  968.0\n",
      " -96.0   64.0  213.0  289.0  436.0  578.0  757.0  832.0  910.0  974.0\n",
      " -84.0   89.0  216.0  338.0  467.0  593.0  783.0  848.0  925.0  979.0\n",
      " -69.0  101.0  240.0  390.0  511.0  611.0  821.0  867.0  941.0  993.0\n",
      " -67.0  166.0  252.0  425.0  528.0  632.0  826.0  877.0  960.0 1000.0\n",
      " -48.0  228.0  335.0  427.0  607.0  731.0  831.0  881.0  968.0 1017.0\n",
      "  82.0  310.0  414.0  564.0  718.0  791.0  876.0  914.0  999.0 1019.0\n",
      "0.020987510681152344\n"
     ]
    }
   ],
   "source": [
    "start_time = time.time()\n",
    "matrix_copy = np.array(matrix)\n",
    "insertion_sort(matrix_copy)\n",
    "print( time.time() - start_time)"
   ]
  },
  {
   "cell_type": "code",
   "execution_count": 72,
   "id": "proud-idaho",
   "metadata": {},
   "outputs": [],
   "source": [
    "# Сортировка обменом\n",
    "def bubble_sort(matrix_copy):\n",
    "    bub = 0\n",
    "    for k in range(m):\n",
    "        for j in range(n):\n",
    "            for i in range(n - 1):\n",
    "                if matrix_copy[k, i] > matrix_copy[k, i + 1]:\n",
    "                    bub = matrix_copy[k, i]\n",
    "                    matrix_copy[k, i] = matrix_copy[k, i + 1]\n",
    "                    matrix_copy[k, i + 1] = bub\n",
    "    for k in range(n - 1, -1 , -1):\n",
    "        for j in range(m):\n",
    "            for i in range(m - 1):\n",
    "                if matrix_copy[i, k] > matrix_copy[i + 1, k]:\n",
    "                    bub = matrix_copy[i, k]\n",
    "                    matrix_copy[i, k] = matrix_copy[i + 1, k]\n",
    "                    matrix_copy[i + 1, k] = bub\n",
    "    output(matrix_copy)"
   ]
  },
  {
   "cell_type": "code",
   "execution_count": 73,
   "id": "relative-reservoir",
   "metadata": {},
   "outputs": [
    {
     "name": "stdout",
     "output_type": "stream",
     "text": [
      "-235.0 -228.0 -171.0 -138.0   -9.0  146.0  370.0  412.0  469.0  581.0\n",
      "-227.0 -183.0 -150.0   -6.0  112.0  223.0  447.0  516.0  549.0  681.0\n",
      "-212.0 -117.0  -12.0   26.0  150.0  228.0  479.0  523.0  568.0  816.0\n",
      "-207.0 -115.0    9.0   61.0  183.0  294.0  512.0  604.0  637.0  826.0\n",
      "-199.0 -112.0   18.0  106.0  251.0  355.0  518.0  633.0  659.0  859.0\n",
      "-184.0  -69.0   22.0  131.0  293.0  428.0  576.0  633.0  704.0  872.0\n",
      "-183.0  -69.0   33.0  156.0  305.0  462.0  611.0  700.0  737.0  879.0\n",
      "-177.0  -41.0   42.0  194.0  309.0  463.0  652.0  723.0  837.0  902.0\n",
      "-174.0  -38.0   42.0  209.0  337.0  480.0  674.0  769.0  845.0  934.0\n",
      "-168.0  -24.0   91.0  229.0  353.0  506.0  709.0  770.0  857.0  935.0\n",
      "-151.0  -19.0  100.0  229.0  415.0  537.0  712.0  810.0  876.0  942.0\n",
      "-137.0   52.0  126.0  269.0  429.0  539.0  717.0  820.0  877.0  944.0\n",
      "-135.0   58.0  177.0  279.0  432.0  574.0  751.0  821.0  897.0  968.0\n",
      " -96.0   64.0  213.0  289.0  436.0  578.0  757.0  832.0  910.0  974.0\n",
      " -84.0   89.0  216.0  338.0  467.0  593.0  783.0  848.0  925.0  979.0\n",
      " -69.0  101.0  240.0  390.0  511.0  611.0  821.0  867.0  941.0  993.0\n",
      " -67.0  166.0  252.0  425.0  528.0  632.0  826.0  877.0  960.0 1000.0\n",
      " -48.0  228.0  335.0  427.0  607.0  731.0  831.0  881.0  968.0 1017.0\n",
      "  82.0  310.0  414.0  564.0  718.0  791.0  876.0  914.0  999.0 1019.0\n",
      "0.022986888885498047\n"
     ]
    }
   ],
   "source": [
    "start_time = time.time()\n",
    "matrix_copy = np.array(matrix)\n",
    "bubble_sort(matrix_copy)\n",
    "print(time.time() - start_time)"
   ]
  },
  {
   "cell_type": "code",
   "execution_count": 74,
   "id": "productive-professional",
   "metadata": {},
   "outputs": [],
   "source": [
    "# Сортировка Шелла\n",
    "def shell_sort(matrix):\n",
    "    for k in range(m):\n",
    "        for i in range(n):\n",
    "            j = i - 1\n",
    "            key = matrix[k, i]\n",
    "            while matrix[k, j] > key and j >= 0:\n",
    "                matrix[k, j + 1] = matrix[k, j]\n",
    "                j -= 1\n",
    "            matrix[k, j + 1] = key\n",
    "    output(matrix)"
   ]
  },
  {
   "cell_type": "code",
   "execution_count": 75,
   "id": "olive-stand",
   "metadata": {},
   "outputs": [
    {
     "name": "stdout",
     "output_type": "stream",
     "text": [
      "-184.0 -112.0   42.0  269.0  353.0  355.0  876.0  881.0  925.0  979.0\n",
      " -96.0  -69.0    9.0  156.0  183.0  574.0  826.0  832.0  897.0  935.0\n",
      "-227.0 -117.0   22.0  338.0  718.0  731.0  751.0  770.0  941.0 1017.0\n",
      "-183.0  228.0  252.0  279.0  309.0  539.0  576.0  877.0  999.0 1019.0\n",
      " -48.0  -19.0   91.0  209.0  293.0  578.0  712.0  820.0  837.0  859.0\n",
      " -84.0  -69.0   33.0  131.0  150.0  228.0  674.0  769.0  845.0  879.0\n",
      "-135.0  -24.0   42.0  106.0  528.0  611.0  709.0  723.0  910.0  993.0\n",
      "-207.0  -41.0  -12.0   -6.0  305.0  506.0  518.0  633.0  704.0  826.0\n",
      "-212.0 -183.0 -150.0   26.0  112.0  223.0  370.0  412.0  469.0  681.0\n",
      "-235.0 -228.0 -171.0 -138.0   -9.0  146.0  447.0  604.0  637.0  816.0\n",
      "-177.0   89.0  213.0  425.0  432.0  463.0  652.0  700.0  737.0  902.0\n",
      " -67.0   52.0  177.0  289.0  337.0  428.0  757.0  810.0  857.0  872.0\n",
      "-137.0  -38.0   18.0   61.0  511.0  593.0  831.0  914.0  960.0 1000.0\n",
      " -69.0   58.0  414.0  427.0  436.0  537.0  717.0  821.0  876.0  944.0\n",
      "  82.0  101.0  240.0  390.0  415.0  462.0  479.0  516.0  568.0  581.0\n",
      "-151.0   64.0  126.0  194.0  251.0  294.0  512.0  523.0  549.0  968.0\n",
      "-199.0  166.0  216.0  229.0  429.0  480.0  611.0  633.0  659.0  942.0\n",
      "-168.0 -115.0  100.0  229.0  467.0  632.0  783.0  867.0  968.0  974.0\n",
      "-174.0  310.0  335.0  564.0  607.0  791.0  821.0  848.0  877.0  934.0\n",
      "0.020971298217773438\n"
     ]
    }
   ],
   "source": [
    "start_time = time.time()\n",
    "matrix_copy = np.array(matrix)\n",
    "shell_sort(matrix_copy)\n",
    "print(time.time() - start_time)"
   ]
  },
  {
   "cell_type": "code",
   "execution_count": 76,
   "id": "matched-latino",
   "metadata": {},
   "outputs": [],
   "source": [
    "# Быстрая сортировка\n",
    "import random\n",
    "def quicksort(nums):\n",
    "    if len(nums) <= 1:\n",
    "        return nums\n",
    "    else:\n",
    "        q = random.choice(nums)\n",
    "        s_nums = []\n",
    "        m_nums = []\n",
    "        e_nums = []\n",
    "        for n in nums:\n",
    "            if n < q:\n",
    "                s_nums.append(n)\n",
    "            elif n > q:\n",
    "                  m_nums.append(n)\n",
    "            else:\n",
    "                e_nums.append(n)\n",
    "        return quicksort(s_nums) + e_nums + quicksort(m_nums)\n",
    "def quick_sort(matrix):\n",
    "    a = []\n",
    "    for k in range(m):\n",
    "        for i in range(n):   \n",
    "            a.append(matrix[k,i])\n",
    "        a = quicksort(a)\n",
    "        for i in range(n):\n",
    "            matrix[k,i] = a[i]\n",
    "        a = []\n",
    "    for k in range(n - 1, -1, -1):\n",
    "        for i in range(m):   \n",
    "            a.append(matrix[i,k])\n",
    "        a = quicksort(a)\n",
    "        for i in range(m):\n",
    "            matrix[i,k] = a[i]\n",
    "        a = []\n",
    "    output(matrix)"
   ]
  },
  {
   "cell_type": "code",
   "execution_count": 77,
   "id": "diagnostic-picnic",
   "metadata": {},
   "outputs": [
    {
     "name": "stdout",
     "output_type": "stream",
     "text": [
      "-235.0 -228.0 -171.0 -138.0   -9.0  146.0  370.0  412.0  469.0  581.0\n",
      "-227.0 -183.0 -150.0   -6.0  112.0  223.0  447.0  516.0  549.0  681.0\n",
      "-212.0 -117.0  -12.0   26.0  150.0  228.0  479.0  523.0  568.0  816.0\n",
      "-207.0 -115.0    9.0   61.0  183.0  294.0  512.0  604.0  637.0  826.0\n",
      "-199.0 -112.0   18.0  106.0  251.0  355.0  518.0  633.0  659.0  859.0\n",
      "-184.0  -69.0   22.0  131.0  293.0  428.0  576.0  633.0  704.0  872.0\n",
      "-183.0  -69.0   33.0  156.0  305.0  462.0  611.0  700.0  737.0  879.0\n",
      "-177.0  -41.0   42.0  194.0  309.0  463.0  652.0  723.0  837.0  902.0\n",
      "-174.0  -38.0   42.0  209.0  337.0  480.0  674.0  769.0  845.0  934.0\n",
      "-168.0  -24.0   91.0  229.0  353.0  506.0  709.0  770.0  857.0  935.0\n",
      "-151.0  -19.0  100.0  229.0  415.0  537.0  712.0  810.0  876.0  942.0\n",
      "-137.0   52.0  126.0  269.0  429.0  539.0  717.0  820.0  877.0  944.0\n",
      "-135.0   58.0  177.0  279.0  432.0  574.0  751.0  821.0  897.0  968.0\n",
      " -96.0   64.0  213.0  289.0  436.0  578.0  757.0  832.0  910.0  974.0\n",
      " -84.0   89.0  216.0  338.0  467.0  593.0  783.0  848.0  925.0  979.0\n",
      " -69.0  101.0  240.0  390.0  511.0  611.0  821.0  867.0  941.0  993.0\n",
      " -67.0  166.0  252.0  425.0  528.0  632.0  826.0  877.0  960.0 1000.0\n",
      " -48.0  228.0  335.0  427.0  607.0  731.0  831.0  881.0  968.0 1017.0\n",
      "  82.0  310.0  414.0  564.0  718.0  791.0  876.0  914.0  999.0 1019.0\n",
      "0.01897907257080078\n"
     ]
    }
   ],
   "source": [
    "start_time = time.time()\n",
    "matrix_copy = np.array(matrix)\n",
    "quick_sort(matrix_copy)\n",
    "print(time.time() - start_time)"
   ]
  },
  {
   "cell_type": "code",
   "execution_count": 78,
   "id": "altered-knife",
   "metadata": {},
   "outputs": [],
   "source": [
    "# Турнирная сортировка\n",
    "def heapify(heap_array, n, i, k):\n",
    "    m = i\n",
    "    left = 2 * i\n",
    "    right = 2 * i + 1\n",
    "    if left < n and heap_array[k,m] < heap_array[k,left]:\n",
    "        m = left\n",
    "    if right < n and heap_array[k,m] < heap_array[k,right]:\n",
    "        m = right\n",
    "    if m != i:\n",
    "        heap_array[k,i], heap_array[k,m] = heap_array[k,m], heap_array[k,i]\n",
    "        heapify(heap_array, n, m, k)\n",
    "    return heap_array\n",
    "\n",
    "def sort_tournament(matrix): \n",
    "    for k in range(m):\n",
    "        for i in range(n // 2, -1, -1):\n",
    "            heapify(matrix, n, i, k)\n",
    "        for i in range(n - 1, -1, -1):\n",
    "            if matrix[k,0] > matrix[k,i]:\n",
    "                matrix[k,0], matrix[k,i] = matrix[k,i], matrix[k,0]\n",
    "                heapify(matrix, i, 0, k)\n",
    "    output(matrix)"
   ]
  },
  {
   "cell_type": "code",
   "execution_count": 79,
   "id": "provincial-academy",
   "metadata": {},
   "outputs": [
    {
     "name": "stdout",
     "output_type": "stream",
     "text": [
      "-184.0 -112.0   42.0  269.0  353.0  355.0  876.0  881.0  925.0  979.0\n",
      " -96.0  -69.0    9.0  156.0  183.0  574.0  826.0  832.0  897.0  935.0\n",
      "-227.0 -117.0   22.0  338.0  718.0  731.0  751.0  770.0  941.0 1017.0\n",
      "-183.0  228.0  252.0  279.0  309.0  539.0  576.0  877.0  999.0 1019.0\n",
      " -48.0  -19.0   91.0  209.0  293.0  578.0  712.0  820.0  837.0  859.0\n",
      " -84.0  -69.0   33.0  131.0  150.0  228.0  674.0  769.0  845.0  879.0\n",
      "-135.0  -24.0   42.0  106.0  528.0  611.0  709.0  723.0  910.0  993.0\n",
      "-207.0  -41.0  -12.0   -6.0  305.0  506.0  518.0  633.0  704.0  826.0\n",
      "-212.0 -183.0 -150.0   26.0  112.0  223.0  370.0  412.0  469.0  681.0\n",
      "-235.0 -228.0 -171.0 -138.0   -9.0  146.0  447.0  604.0  637.0  816.0\n",
      "-177.0   89.0  213.0  425.0  432.0  463.0  652.0  700.0  737.0  902.0\n",
      " -67.0   52.0  177.0  289.0  337.0  428.0  757.0  810.0  857.0  872.0\n",
      "-137.0  -38.0   18.0   61.0  511.0  593.0  831.0  914.0  960.0 1000.0\n",
      " -69.0   58.0  414.0  427.0  436.0  537.0  717.0  821.0  876.0  944.0\n",
      "  82.0  101.0  240.0  390.0  415.0  462.0  479.0  516.0  568.0  581.0\n",
      "-151.0   64.0  126.0  194.0  251.0  294.0  512.0  523.0  549.0  968.0\n",
      "-199.0  166.0  216.0  229.0  429.0  480.0  611.0  633.0  659.0  942.0\n",
      "-168.0 -115.0  100.0  229.0  467.0  632.0  783.0  867.0  968.0  974.0\n",
      "-174.0  310.0  335.0  564.0  607.0  791.0  821.0  848.0  877.0  934.0\n",
      "0.018981456756591797\n"
     ]
    }
   ],
   "source": [
    "start_time = time.time()\n",
    "matrix_copy = np.array(matrix)\n",
    "sort_tournament(matrix_copy)\n",
    "print(time.time() - start_time)"
   ]
  },
  {
   "cell_type": "code",
   "execution_count": 80,
   "id": "irish-communications",
   "metadata": {},
   "outputs": [],
   "source": [
    "# Пирамидальная сортировка\n",
    "def heap(matrix,n,i,k):\n",
    "    largest = i\n",
    "    l = 2 * i + 1\n",
    "    r = 2 * i + 2\n",
    "    if l < n and matrix[k, i] < matrix[k, l]:\n",
    "        largest = l\n",
    "    if r < n and matrix[k, largest] < matrix[k, r]:\n",
    "        largest = r\n",
    "    if largest != i:\n",
    "        matrix[k,i],matrix[k,largest] = matrix[k,largest],matrix[k,i]\n",
    "        heap(matrix, n, largest,k)\n",
    "def sort_pyramid(matrix,k):\n",
    "    for i in range(n, -1, -1):\n",
    "        heap(matrix,n,i,k)\n",
    "    for i in range(n-1,0,-1):\n",
    "        matrix[k, i], matrix[k, 0] = matrix[k, 0], matrix[k, i]\n",
    "        heap(matrix,i,0,k)\n",
    "def heap_2(matrix,n,i,k):\n",
    "    largest = i\n",
    "    l = 2 * i + 1\n",
    "    r = 2 * i + 2\n",
    "    if l < n and matrix[i,k] < matrix[l,k]:\n",
    "        largest = l\n",
    "    if r < n and matrix[largest,k] < matrix[r,k]:\n",
    "        largest = r\n",
    "    if largest != i:\n",
    "        matrix[i,k],matrix[largest,k] = matrix[largest,k],matrix[i,k]\n",
    "        heap_2(matrix, n, largest,k)\n",
    "def sort_pyramid_2(matrix,k):\n",
    "    n = len(matrix)\n",
    "    for i in range(n-1,-1,-1):\n",
    "        heap_2(matrix,n,i,k)\n",
    "    for i in range(n-1,-1,-1):\n",
    "        matrix[i,k], matrix[0,k] = matrix[0,k], matrix[i,k]\n",
    "        heap_2(matrix,i,0,k)\n",
    "def sort_pyramidal(matrix):\n",
    "    for k in range(m):\n",
    "        sort_pyramid(matrix,k)\n",
    "    for k in range(n-1,-1,-1):\n",
    "        sort_pyramid_2(matrix,k)\n",
    "    output(matrix)"
   ]
  },
  {
   "cell_type": "code",
   "execution_count": 81,
   "id": "applied-february",
   "metadata": {},
   "outputs": [
    {
     "name": "stdout",
     "output_type": "stream",
     "text": [
      "-235.0 -228.0 -171.0 -138.0   -9.0  146.0  370.0  412.0  469.0  581.0\n",
      "-227.0 -183.0 -150.0   -6.0  112.0  223.0  447.0  516.0  549.0  681.0\n",
      "-212.0 -117.0  -12.0   26.0  150.0  228.0  479.0  523.0  568.0  816.0\n",
      "-207.0 -115.0    9.0   61.0  183.0  294.0  512.0  604.0  637.0  826.0\n",
      "-199.0 -112.0   18.0  106.0  251.0  355.0  518.0  633.0  659.0  859.0\n",
      "-184.0  -69.0   22.0  131.0  293.0  428.0  576.0  633.0  704.0  872.0\n",
      "-183.0  -69.0   33.0  156.0  305.0  462.0  611.0  700.0  737.0  879.0\n",
      "-177.0  -41.0   42.0  194.0  309.0  463.0  652.0  723.0  837.0  902.0\n",
      "-174.0  -38.0   42.0  209.0  337.0  480.0  674.0  769.0  845.0  934.0\n",
      "-168.0  -24.0   91.0  229.0  353.0  506.0  709.0  770.0  857.0  935.0\n",
      "-151.0  -19.0  100.0  229.0  415.0  537.0  712.0  810.0  876.0  942.0\n",
      "-137.0   52.0  126.0  269.0  429.0  539.0  717.0  820.0  877.0  944.0\n",
      "-135.0   58.0  177.0  279.0  432.0  574.0  751.0  821.0  897.0  968.0\n",
      " -96.0   64.0  213.0  289.0  436.0  578.0  757.0  832.0  910.0  974.0\n",
      " -84.0   89.0  216.0  338.0  467.0  593.0  783.0  848.0  925.0  979.0\n",
      " -69.0  101.0  240.0  390.0  511.0  611.0  821.0  867.0  941.0  993.0\n",
      " -67.0  166.0  252.0  425.0  528.0  632.0  826.0  877.0  960.0 1000.0\n",
      " -48.0  228.0  335.0  427.0  607.0  731.0  831.0  881.0  968.0 1017.0\n",
      "  82.0  310.0  414.0  564.0  718.0  791.0  876.0  914.0  999.0 1019.0\n",
      "0.02798914909362793\n"
     ]
    }
   ],
   "source": [
    "start_time = time.time()\n",
    "matrix_copy = np.array(matrix)\n",
    "sort_pyramidal(matrix_copy)\n",
    "print(time.time() - start_time)"
   ]
  },
  {
   "cell_type": "code",
   "execution_count": null,
   "id": "twenty-subscriber",
   "metadata": {},
   "outputs": [],
   "source": []
  }
 ],
 "metadata": {
  "kernelspec": {
   "display_name": "Python 3",
   "language": "python",
   "name": "python3"
  },
  "language_info": {
   "codemirror_mode": {
    "name": "ipython",
    "version": 3
   },
   "file_extension": ".py",
   "mimetype": "text/x-python",
   "name": "python",
   "nbconvert_exporter": "python",
   "pygments_lexer": "ipython3",
   "version": "3.9.1"
  }
 },
 "nbformat": 4,
 "nbformat_minor": 5
}
